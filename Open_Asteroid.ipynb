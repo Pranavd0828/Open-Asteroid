{
  "nbformat": 4,
  "nbformat_minor": 0,
  "metadata": {
    "colab": {
      "name": "Open Asteroid.ipynb",
      "provenance": [],
      "collapsed_sections": []
    },
    "kernelspec": {
      "name": "python3",
      "display_name": "Python 3"
    }
  },
  "cells": [
    {
      "cell_type": "markdown",
      "metadata": {
        "id": "a13HPY0BbKMx"
      },
      "source": [
        "## **Part I**: \n",
        "\n",
        ">### Import Libraries and Connect with the dataset"
      ]
    },
    {
      "cell_type": "code",
      "metadata": {
        "id": "zZ7lNy2zA5lK"
      },
      "source": [
        "import numpy as np\n",
        "import pandas as pd\n",
        "import keras\n",
        "import keras.backend as K\n",
        "from keras.optimizers import Adam\n",
        "from keras.models import Sequential\n",
        "from keras.utils import Sequence\n",
        "from keras.layers import *\n",
        "import matplotlib.pyplot as plt\n",
        "from google.colab import files\n",
        "import io \n",
        "from google.colab import drive\n",
        "\n",
        "from sklearn.tree import DecisionTreeRegressor\n",
        "from sklearn.metrics import mean_squared_error\n",
        "from sklearn.model_selection import train_test_split\n",
        "from sklearn.ensemble import RandomForestRegressor\n",
        "import warnings\n",
        "warnings.filterwarnings('ignore')\n",
        "\n",
        "pd.set_option('display.max_rows', 500)\n",
        "pd.set_option('display.max_columns', 500)\n",
        "pd.set_option('display.width', 1000)"
      ],
      "execution_count": 1,
      "outputs": []
    },
    {
      "cell_type": "code",
      "metadata": {
        "colab": {
          "base_uri": "https://localhost:8080/"
        },
        "id": "V4hEfsPJC4WG",
        "outputId": "be948e57-a2f8-4296-c355-58e2767611da"
      },
      "source": [
        "drive.mount(\"/content/drive\", force_remount=True)"
      ],
      "execution_count": 2,
      "outputs": [
        {
          "output_type": "stream",
          "text": [
            "Mounted at /content/drive\n"
          ],
          "name": "stdout"
        }
      ]
    },
    {
      "cell_type": "code",
      "metadata": {
        "id": "AaokoJV3C7HC"
      },
      "source": [
        "path = \"/content/drive/MyDrive/Projects 2021/Open Asteroid Dataset/Asteroid_Updated.csv\"\n",
        "df_asteroid = pd.read_csv(path)"
      ],
      "execution_count": 3,
      "outputs": []
    },
    {
      "cell_type": "code",
      "metadata": {
        "colab": {
          "base_uri": "https://localhost:8080/",
          "height": 292
        },
        "id": "JnQehd5FDCY_",
        "outputId": "e1849654-0735-48f0-f4c7-710a9ff32d15"
      },
      "source": [
        "df_asteroid.head()"
      ],
      "execution_count": 4,
      "outputs": [
        {
          "output_type": "execute_result",
          "data": {
            "text/html": [
              "<div>\n",
              "<style scoped>\n",
              "    .dataframe tbody tr th:only-of-type {\n",
              "        vertical-align: middle;\n",
              "    }\n",
              "\n",
              "    .dataframe tbody tr th {\n",
              "        vertical-align: top;\n",
              "    }\n",
              "\n",
              "    .dataframe thead th {\n",
              "        text-align: right;\n",
              "    }\n",
              "</style>\n",
              "<table border=\"1\" class=\"dataframe\">\n",
              "  <thead>\n",
              "    <tr style=\"text-align: right;\">\n",
              "      <th></th>\n",
              "      <th>name</th>\n",
              "      <th>a</th>\n",
              "      <th>e</th>\n",
              "      <th>i</th>\n",
              "      <th>om</th>\n",
              "      <th>w</th>\n",
              "      <th>q</th>\n",
              "      <th>ad</th>\n",
              "      <th>per_y</th>\n",
              "      <th>data_arc</th>\n",
              "      <th>condition_code</th>\n",
              "      <th>n_obs_used</th>\n",
              "      <th>H</th>\n",
              "      <th>neo</th>\n",
              "      <th>pha</th>\n",
              "      <th>diameter</th>\n",
              "      <th>extent</th>\n",
              "      <th>albedo</th>\n",
              "      <th>rot_per</th>\n",
              "      <th>GM</th>\n",
              "      <th>BV</th>\n",
              "      <th>UB</th>\n",
              "      <th>IR</th>\n",
              "      <th>spec_B</th>\n",
              "      <th>spec_T</th>\n",
              "      <th>G</th>\n",
              "      <th>moid</th>\n",
              "      <th>class</th>\n",
              "      <th>n</th>\n",
              "      <th>per</th>\n",
              "      <th>ma</th>\n",
              "    </tr>\n",
              "  </thead>\n",
              "  <tbody>\n",
              "    <tr>\n",
              "      <th>0</th>\n",
              "      <td>Ceres</td>\n",
              "      <td>2.769165</td>\n",
              "      <td>0.076009</td>\n",
              "      <td>10.594067</td>\n",
              "      <td>80.305532</td>\n",
              "      <td>73.597694</td>\n",
              "      <td>2.558684</td>\n",
              "      <td>2.979647</td>\n",
              "      <td>4.608202</td>\n",
              "      <td>8822.0</td>\n",
              "      <td>0</td>\n",
              "      <td>1002</td>\n",
              "      <td>3.34</td>\n",
              "      <td>N</td>\n",
              "      <td>N</td>\n",
              "      <td>939.4</td>\n",
              "      <td>964.4 x 964.2 x 891.8</td>\n",
              "      <td>0.0900</td>\n",
              "      <td>9.074170</td>\n",
              "      <td>62.6284</td>\n",
              "      <td>0.713</td>\n",
              "      <td>0.426</td>\n",
              "      <td>NaN</td>\n",
              "      <td>C</td>\n",
              "      <td>G</td>\n",
              "      <td>0.12</td>\n",
              "      <td>1.59478</td>\n",
              "      <td>MBA</td>\n",
              "      <td>0.213885</td>\n",
              "      <td>1683.145708</td>\n",
              "      <td>77.372096</td>\n",
              "    </tr>\n",
              "    <tr>\n",
              "      <th>1</th>\n",
              "      <td>Pallas</td>\n",
              "      <td>2.772466</td>\n",
              "      <td>0.230337</td>\n",
              "      <td>34.836234</td>\n",
              "      <td>173.080063</td>\n",
              "      <td>310.048857</td>\n",
              "      <td>2.133865</td>\n",
              "      <td>3.411067</td>\n",
              "      <td>4.616444</td>\n",
              "      <td>72318.0</td>\n",
              "      <td>0</td>\n",
              "      <td>8490</td>\n",
              "      <td>4.13</td>\n",
              "      <td>N</td>\n",
              "      <td>N</td>\n",
              "      <td>545</td>\n",
              "      <td>582x556x500</td>\n",
              "      <td>0.1010</td>\n",
              "      <td>7.813200</td>\n",
              "      <td>14.3000</td>\n",
              "      <td>0.635</td>\n",
              "      <td>0.284</td>\n",
              "      <td>NaN</td>\n",
              "      <td>B</td>\n",
              "      <td>B</td>\n",
              "      <td>0.11</td>\n",
              "      <td>1.23324</td>\n",
              "      <td>MBA</td>\n",
              "      <td>0.213503</td>\n",
              "      <td>1686.155999</td>\n",
              "      <td>59.699133</td>\n",
              "    </tr>\n",
              "    <tr>\n",
              "      <th>2</th>\n",
              "      <td>Juno</td>\n",
              "      <td>2.669150</td>\n",
              "      <td>0.256942</td>\n",
              "      <td>12.988919</td>\n",
              "      <td>169.852760</td>\n",
              "      <td>248.138626</td>\n",
              "      <td>1.983332</td>\n",
              "      <td>3.354967</td>\n",
              "      <td>4.360814</td>\n",
              "      <td>72684.0</td>\n",
              "      <td>0</td>\n",
              "      <td>7104</td>\n",
              "      <td>5.33</td>\n",
              "      <td>N</td>\n",
              "      <td>N</td>\n",
              "      <td>246.596</td>\n",
              "      <td>NaN</td>\n",
              "      <td>0.2140</td>\n",
              "      <td>7.210000</td>\n",
              "      <td>NaN</td>\n",
              "      <td>0.824</td>\n",
              "      <td>0.433</td>\n",
              "      <td>NaN</td>\n",
              "      <td>Sk</td>\n",
              "      <td>S</td>\n",
              "      <td>0.32</td>\n",
              "      <td>1.03454</td>\n",
              "      <td>MBA</td>\n",
              "      <td>0.226019</td>\n",
              "      <td>1592.787285</td>\n",
              "      <td>34.925016</td>\n",
              "    </tr>\n",
              "    <tr>\n",
              "      <th>3</th>\n",
              "      <td>Vesta</td>\n",
              "      <td>2.361418</td>\n",
              "      <td>0.088721</td>\n",
              "      <td>7.141771</td>\n",
              "      <td>103.810804</td>\n",
              "      <td>150.728541</td>\n",
              "      <td>2.151909</td>\n",
              "      <td>2.570926</td>\n",
              "      <td>3.628837</td>\n",
              "      <td>24288.0</td>\n",
              "      <td>0</td>\n",
              "      <td>9325</td>\n",
              "      <td>3.20</td>\n",
              "      <td>N</td>\n",
              "      <td>N</td>\n",
              "      <td>525.4</td>\n",
              "      <td>572.6 x 557.2 x 446.4</td>\n",
              "      <td>0.4228</td>\n",
              "      <td>5.342128</td>\n",
              "      <td>17.8000</td>\n",
              "      <td>0.782</td>\n",
              "      <td>0.492</td>\n",
              "      <td>NaN</td>\n",
              "      <td>V</td>\n",
              "      <td>V</td>\n",
              "      <td>0.32</td>\n",
              "      <td>1.13948</td>\n",
              "      <td>MBA</td>\n",
              "      <td>0.271609</td>\n",
              "      <td>1325.432765</td>\n",
              "      <td>95.861936</td>\n",
              "    </tr>\n",
              "    <tr>\n",
              "      <th>4</th>\n",
              "      <td>Astraea</td>\n",
              "      <td>2.574249</td>\n",
              "      <td>0.191095</td>\n",
              "      <td>5.366988</td>\n",
              "      <td>141.576605</td>\n",
              "      <td>358.687607</td>\n",
              "      <td>2.082324</td>\n",
              "      <td>3.066174</td>\n",
              "      <td>4.130323</td>\n",
              "      <td>63507.0</td>\n",
              "      <td>0</td>\n",
              "      <td>2916</td>\n",
              "      <td>6.85</td>\n",
              "      <td>N</td>\n",
              "      <td>N</td>\n",
              "      <td>106.699</td>\n",
              "      <td>NaN</td>\n",
              "      <td>0.2740</td>\n",
              "      <td>16.806000</td>\n",
              "      <td>NaN</td>\n",
              "      <td>0.826</td>\n",
              "      <td>0.411</td>\n",
              "      <td>NaN</td>\n",
              "      <td>S</td>\n",
              "      <td>S</td>\n",
              "      <td>NaN</td>\n",
              "      <td>1.09589</td>\n",
              "      <td>MBA</td>\n",
              "      <td>0.238632</td>\n",
              "      <td>1508.600458</td>\n",
              "      <td>282.366289</td>\n",
              "    </tr>\n",
              "  </tbody>\n",
              "</table>\n",
              "</div>"
            ],
            "text/plain": [
              "      name         a         e          i          om           w         q        ad     per_y  data_arc condition_code  n_obs_used     H neo pha diameter                 extent  albedo    rot_per       GM     BV     UB  IR spec_B spec_T     G     moid class         n          per          ma\n",
              "0    Ceres  2.769165  0.076009  10.594067   80.305532   73.597694  2.558684  2.979647  4.608202    8822.0              0        1002  3.34   N   N    939.4  964.4 x 964.2 x 891.8  0.0900   9.074170  62.6284  0.713  0.426 NaN      C      G  0.12  1.59478   MBA  0.213885  1683.145708   77.372096\n",
              "1   Pallas  2.772466  0.230337  34.836234  173.080063  310.048857  2.133865  3.411067  4.616444   72318.0              0        8490  4.13   N   N      545            582x556x500  0.1010   7.813200  14.3000  0.635  0.284 NaN      B      B  0.11  1.23324   MBA  0.213503  1686.155999   59.699133\n",
              "2     Juno  2.669150  0.256942  12.988919  169.852760  248.138626  1.983332  3.354967  4.360814   72684.0              0        7104  5.33   N   N  246.596                    NaN  0.2140   7.210000      NaN  0.824  0.433 NaN     Sk      S  0.32  1.03454   MBA  0.226019  1592.787285   34.925016\n",
              "3    Vesta  2.361418  0.088721   7.141771  103.810804  150.728541  2.151909  2.570926  3.628837   24288.0              0        9325  3.20   N   N    525.4  572.6 x 557.2 x 446.4  0.4228   5.342128  17.8000  0.782  0.492 NaN      V      V  0.32  1.13948   MBA  0.271609  1325.432765   95.861936\n",
              "4  Astraea  2.574249  0.191095   5.366988  141.576605  358.687607  2.082324  3.066174  4.130323   63507.0              0        2916  6.85   N   N  106.699                    NaN  0.2740  16.806000      NaN  0.826  0.411 NaN      S      S   NaN  1.09589   MBA  0.238632  1508.600458  282.366289"
            ]
          },
          "metadata": {
            "tags": []
          },
          "execution_count": 4
        }
      ]
    },
    {
      "cell_type": "markdown",
      "metadata": {
        "id": "V7e0L2RUamHa"
      },
      "source": [
        "## **Part II**: \n",
        "\n",
        ">### Handling the missing values by cleaning the dataset, and using imputation"
      ]
    },
    {
      "cell_type": "code",
      "metadata": {
        "colab": {
          "base_uri": "https://localhost:8080/",
          "height": 1000
        },
        "id": "8vPYnigoDCTd",
        "outputId": "3806780b-968f-41e0-f502-068d6eff7fb4"
      },
      "source": [
        "df_null = pd.DataFrame(np.round(100*df_asteroid.isnull().sum()/df_asteroid.shape[0],4))\n",
        "df_null"
      ],
      "execution_count": 5,
      "outputs": [
        {
          "output_type": "execute_result",
          "data": {
            "text/html": [
              "<div>\n",
              "<style scoped>\n",
              "    .dataframe tbody tr th:only-of-type {\n",
              "        vertical-align: middle;\n",
              "    }\n",
              "\n",
              "    .dataframe tbody tr th {\n",
              "        vertical-align: top;\n",
              "    }\n",
              "\n",
              "    .dataframe thead th {\n",
              "        text-align: right;\n",
              "    }\n",
              "</style>\n",
              "<table border=\"1\" class=\"dataframe\">\n",
              "  <thead>\n",
              "    <tr style=\"text-align: right;\">\n",
              "      <th></th>\n",
              "      <th>0</th>\n",
              "    </tr>\n",
              "  </thead>\n",
              "  <tbody>\n",
              "    <tr>\n",
              "      <th>name</th>\n",
              "      <td>97.3840</td>\n",
              "    </tr>\n",
              "    <tr>\n",
              "      <th>a</th>\n",
              "      <td>0.0002</td>\n",
              "    </tr>\n",
              "    <tr>\n",
              "      <th>e</th>\n",
              "      <td>0.0000</td>\n",
              "    </tr>\n",
              "    <tr>\n",
              "      <th>i</th>\n",
              "      <td>0.0000</td>\n",
              "    </tr>\n",
              "    <tr>\n",
              "      <th>om</th>\n",
              "      <td>0.0000</td>\n",
              "    </tr>\n",
              "    <tr>\n",
              "      <th>w</th>\n",
              "      <td>0.0000</td>\n",
              "    </tr>\n",
              "    <tr>\n",
              "      <th>q</th>\n",
              "      <td>0.0000</td>\n",
              "    </tr>\n",
              "    <tr>\n",
              "      <th>ad</th>\n",
              "      <td>0.0007</td>\n",
              "    </tr>\n",
              "    <tr>\n",
              "      <th>per_y</th>\n",
              "      <td>0.0001</td>\n",
              "    </tr>\n",
              "    <tr>\n",
              "      <th>data_arc</th>\n",
              "      <td>1.8428</td>\n",
              "    </tr>\n",
              "    <tr>\n",
              "      <th>condition_code</th>\n",
              "      <td>0.1032</td>\n",
              "    </tr>\n",
              "    <tr>\n",
              "      <th>n_obs_used</th>\n",
              "      <td>0.0000</td>\n",
              "    </tr>\n",
              "    <tr>\n",
              "      <th>H</th>\n",
              "      <td>0.3202</td>\n",
              "    </tr>\n",
              "    <tr>\n",
              "      <th>neo</th>\n",
              "      <td>0.0007</td>\n",
              "    </tr>\n",
              "    <tr>\n",
              "      <th>pha</th>\n",
              "      <td>1.9580</td>\n",
              "    </tr>\n",
              "    <tr>\n",
              "      <th>diameter</th>\n",
              "      <td>83.6092</td>\n",
              "    </tr>\n",
              "    <tr>\n",
              "      <th>extent</th>\n",
              "      <td>99.9979</td>\n",
              "    </tr>\n",
              "    <tr>\n",
              "      <th>albedo</th>\n",
              "      <td>83.7553</td>\n",
              "    </tr>\n",
              "    <tr>\n",
              "      <th>rot_per</th>\n",
              "      <td>97.7616</td>\n",
              "    </tr>\n",
              "    <tr>\n",
              "      <th>GM</th>\n",
              "      <td>99.9983</td>\n",
              "    </tr>\n",
              "    <tr>\n",
              "      <th>BV</th>\n",
              "      <td>99.8784</td>\n",
              "    </tr>\n",
              "    <tr>\n",
              "      <th>UB</th>\n",
              "      <td>99.8834</td>\n",
              "    </tr>\n",
              "    <tr>\n",
              "      <th>IR</th>\n",
              "      <td>99.9999</td>\n",
              "    </tr>\n",
              "    <tr>\n",
              "      <th>spec_B</th>\n",
              "      <td>99.8016</td>\n",
              "    </tr>\n",
              "    <tr>\n",
              "      <th>spec_T</th>\n",
              "      <td>99.8833</td>\n",
              "    </tr>\n",
              "    <tr>\n",
              "      <th>G</th>\n",
              "      <td>99.9858</td>\n",
              "    </tr>\n",
              "    <tr>\n",
              "      <th>moid</th>\n",
              "      <td>1.9580</td>\n",
              "    </tr>\n",
              "    <tr>\n",
              "      <th>class</th>\n",
              "      <td>0.0000</td>\n",
              "    </tr>\n",
              "    <tr>\n",
              "      <th>n</th>\n",
              "      <td>0.0002</td>\n",
              "    </tr>\n",
              "    <tr>\n",
              "      <th>per</th>\n",
              "      <td>0.0007</td>\n",
              "    </tr>\n",
              "    <tr>\n",
              "      <th>ma</th>\n",
              "      <td>0.0010</td>\n",
              "    </tr>\n",
              "  </tbody>\n",
              "</table>\n",
              "</div>"
            ],
            "text/plain": [
              "                      0\n",
              "name            97.3840\n",
              "a                0.0002\n",
              "e                0.0000\n",
              "i                0.0000\n",
              "om               0.0000\n",
              "w                0.0000\n",
              "q                0.0000\n",
              "ad               0.0007\n",
              "per_y            0.0001\n",
              "data_arc         1.8428\n",
              "condition_code   0.1032\n",
              "n_obs_used       0.0000\n",
              "H                0.3202\n",
              "neo              0.0007\n",
              "pha              1.9580\n",
              "diameter        83.6092\n",
              "extent          99.9979\n",
              "albedo          83.7553\n",
              "rot_per         97.7616\n",
              "GM              99.9983\n",
              "BV              99.8784\n",
              "UB              99.8834\n",
              "IR              99.9999\n",
              "spec_B          99.8016\n",
              "spec_T          99.8833\n",
              "G               99.9858\n",
              "moid             1.9580\n",
              "class            0.0000\n",
              "n                0.0002\n",
              "per              0.0007\n",
              "ma               0.0010"
            ]
          },
          "metadata": {
            "tags": []
          },
          "execution_count": 5
        }
      ]
    },
    {
      "cell_type": "code",
      "metadata": {
        "id": "_mRh10rFDCQ3"
      },
      "source": [
        "df_asteroid['diameter']=pd.to_numeric(df_asteroid['diameter'],errors='coerce')\n",
        "dropindexes = df_asteroid['diameter'][df_asteroid['diameter'].isnull()].index\n",
        "dropped_df = df_asteroid.loc[dropindexes]\n",
        "df_asteroid = df_asteroid.drop(dropindexes, axis=0)\n",
        "More_Na = df_asteroid.columns[df_asteroid.isna().sum()/df_asteroid.shape[0] > 0.5]\n",
        "df_asteroid = df_asteroid.drop(More_Na, axis=1)\n",
        "df_asteroid = df_asteroid.drop(['condition_code', 'neo', 'pha', 'albedo', 'H', 'class'],axis=1)\n",
        "df_asteroid = df_asteroid.fillna(df_asteroid.mean())"
      ],
      "execution_count": 6,
      "outputs": []
    },
    {
      "cell_type": "code",
      "metadata": {
        "colab": {
          "base_uri": "https://localhost:8080/",
          "height": 204
        },
        "id": "sEyrLg4iX3b7",
        "outputId": "7bfa7734-2379-46c8-8035-ad6c63534edb"
      },
      "source": [
        "df_asteroid.head()"
      ],
      "execution_count": 7,
      "outputs": [
        {
          "output_type": "execute_result",
          "data": {
            "text/html": [
              "<div>\n",
              "<style scoped>\n",
              "    .dataframe tbody tr th:only-of-type {\n",
              "        vertical-align: middle;\n",
              "    }\n",
              "\n",
              "    .dataframe tbody tr th {\n",
              "        vertical-align: top;\n",
              "    }\n",
              "\n",
              "    .dataframe thead th {\n",
              "        text-align: right;\n",
              "    }\n",
              "</style>\n",
              "<table border=\"1\" class=\"dataframe\">\n",
              "  <thead>\n",
              "    <tr style=\"text-align: right;\">\n",
              "      <th></th>\n",
              "      <th>a</th>\n",
              "      <th>e</th>\n",
              "      <th>i</th>\n",
              "      <th>om</th>\n",
              "      <th>w</th>\n",
              "      <th>q</th>\n",
              "      <th>ad</th>\n",
              "      <th>per_y</th>\n",
              "      <th>data_arc</th>\n",
              "      <th>n_obs_used</th>\n",
              "      <th>diameter</th>\n",
              "      <th>moid</th>\n",
              "      <th>n</th>\n",
              "      <th>per</th>\n",
              "      <th>ma</th>\n",
              "    </tr>\n",
              "  </thead>\n",
              "  <tbody>\n",
              "    <tr>\n",
              "      <th>0</th>\n",
              "      <td>2.769165</td>\n",
              "      <td>0.076009</td>\n",
              "      <td>10.594067</td>\n",
              "      <td>80.305532</td>\n",
              "      <td>73.597694</td>\n",
              "      <td>2.558684</td>\n",
              "      <td>2.979647</td>\n",
              "      <td>4.608202</td>\n",
              "      <td>8822.0</td>\n",
              "      <td>1002</td>\n",
              "      <td>939.400</td>\n",
              "      <td>1.59478</td>\n",
              "      <td>0.213885</td>\n",
              "      <td>1683.145708</td>\n",
              "      <td>77.372096</td>\n",
              "    </tr>\n",
              "    <tr>\n",
              "      <th>1</th>\n",
              "      <td>2.772466</td>\n",
              "      <td>0.230337</td>\n",
              "      <td>34.836234</td>\n",
              "      <td>173.080063</td>\n",
              "      <td>310.048857</td>\n",
              "      <td>2.133865</td>\n",
              "      <td>3.411067</td>\n",
              "      <td>4.616444</td>\n",
              "      <td>72318.0</td>\n",
              "      <td>8490</td>\n",
              "      <td>545.000</td>\n",
              "      <td>1.23324</td>\n",
              "      <td>0.213503</td>\n",
              "      <td>1686.155999</td>\n",
              "      <td>59.699133</td>\n",
              "    </tr>\n",
              "    <tr>\n",
              "      <th>2</th>\n",
              "      <td>2.669150</td>\n",
              "      <td>0.256942</td>\n",
              "      <td>12.988919</td>\n",
              "      <td>169.852760</td>\n",
              "      <td>248.138626</td>\n",
              "      <td>1.983332</td>\n",
              "      <td>3.354967</td>\n",
              "      <td>4.360814</td>\n",
              "      <td>72684.0</td>\n",
              "      <td>7104</td>\n",
              "      <td>246.596</td>\n",
              "      <td>1.03454</td>\n",
              "      <td>0.226019</td>\n",
              "      <td>1592.787285</td>\n",
              "      <td>34.925016</td>\n",
              "    </tr>\n",
              "    <tr>\n",
              "      <th>3</th>\n",
              "      <td>2.361418</td>\n",
              "      <td>0.088721</td>\n",
              "      <td>7.141771</td>\n",
              "      <td>103.810804</td>\n",
              "      <td>150.728541</td>\n",
              "      <td>2.151909</td>\n",
              "      <td>2.570926</td>\n",
              "      <td>3.628837</td>\n",
              "      <td>24288.0</td>\n",
              "      <td>9325</td>\n",
              "      <td>525.400</td>\n",
              "      <td>1.13948</td>\n",
              "      <td>0.271609</td>\n",
              "      <td>1325.432765</td>\n",
              "      <td>95.861936</td>\n",
              "    </tr>\n",
              "    <tr>\n",
              "      <th>4</th>\n",
              "      <td>2.574249</td>\n",
              "      <td>0.191095</td>\n",
              "      <td>5.366988</td>\n",
              "      <td>141.576605</td>\n",
              "      <td>358.687607</td>\n",
              "      <td>2.082324</td>\n",
              "      <td>3.066174</td>\n",
              "      <td>4.130323</td>\n",
              "      <td>63507.0</td>\n",
              "      <td>2916</td>\n",
              "      <td>106.699</td>\n",
              "      <td>1.09589</td>\n",
              "      <td>0.238632</td>\n",
              "      <td>1508.600458</td>\n",
              "      <td>282.366289</td>\n",
              "    </tr>\n",
              "  </tbody>\n",
              "</table>\n",
              "</div>"
            ],
            "text/plain": [
              "          a         e          i          om           w         q        ad     per_y  data_arc  n_obs_used  diameter     moid         n          per          ma\n",
              "0  2.769165  0.076009  10.594067   80.305532   73.597694  2.558684  2.979647  4.608202    8822.0        1002   939.400  1.59478  0.213885  1683.145708   77.372096\n",
              "1  2.772466  0.230337  34.836234  173.080063  310.048857  2.133865  3.411067  4.616444   72318.0        8490   545.000  1.23324  0.213503  1686.155999   59.699133\n",
              "2  2.669150  0.256942  12.988919  169.852760  248.138626  1.983332  3.354967  4.360814   72684.0        7104   246.596  1.03454  0.226019  1592.787285   34.925016\n",
              "3  2.361418  0.088721   7.141771  103.810804  150.728541  2.151909  2.570926  3.628837   24288.0        9325   525.400  1.13948  0.271609  1325.432765   95.861936\n",
              "4  2.574249  0.191095   5.366988  141.576605  358.687607  2.082324  3.066174  4.130323   63507.0        2916   106.699  1.09589  0.238632  1508.600458  282.366289"
            ]
          },
          "metadata": {
            "tags": []
          },
          "execution_count": 7
        }
      ]
    },
    {
      "cell_type": "code",
      "metadata": {
        "colab": {
          "base_uri": "https://localhost:8080/"
        },
        "id": "xuWvJSRqX3Yi",
        "outputId": "9780cd44-1567-4e76-bfa6-2793470abe02"
      },
      "source": [
        "df_asteroid = df_asteroid.fillna(df_asteroid.mean())\n",
        "df_asteroid.isnull().sum()"
      ],
      "execution_count": 8,
      "outputs": [
        {
          "output_type": "execute_result",
          "data": {
            "text/plain": [
              "a             0\n",
              "e             0\n",
              "i             0\n",
              "om            0\n",
              "w             0\n",
              "q             0\n",
              "ad            0\n",
              "per_y         0\n",
              "data_arc      0\n",
              "n_obs_used    0\n",
              "diameter      0\n",
              "moid          0\n",
              "n             0\n",
              "per           0\n",
              "ma            0\n",
              "dtype: int64"
            ]
          },
          "metadata": {
            "tags": []
          },
          "execution_count": 8
        }
      ]
    },
    {
      "cell_type": "code",
      "metadata": {
        "id": "iyE91sdXDCH8"
      },
      "source": [
        "df_asteroid['diameter'] = df_asteroid['diameter'].apply(np.log)\n",
        "\n",
        "for column in df_asteroid.columns.drop(['diameter']):\n",
        "    df_asteroid['log('+column+')'] = df_asteroid[column].apply(np.log)"
      ],
      "execution_count": 9,
      "outputs": []
    },
    {
      "cell_type": "code",
      "metadata": {
        "colab": {
          "base_uri": "https://localhost:8080/"
        },
        "id": "bTQFyGJYVrsR",
        "outputId": "37701d7f-d843-43ea-d956-71d60bd535ca"
      },
      "source": [
        "df_asteroid.corr()['diameter'].abs().sort_values(ascending=False)"
      ],
      "execution_count": 10,
      "outputs": [
        {
          "output_type": "execute_result",
          "data": {
            "text/plain": [
              "diameter           1.000000\n",
              "log(a)             0.563616\n",
              "log(per_y)         0.563616\n",
              "log(n)             0.563616\n",
              "log(per)           0.563616\n",
              "log(q)             0.543737\n",
              "log(moid)          0.528689\n",
              "n                  0.525392\n",
              "q                  0.522404\n",
              "moid               0.521095\n",
              "data_arc           0.519390\n",
              "n_obs_used         0.511250\n",
              "log(ad)            0.477252\n",
              "log(n_obs_used)    0.433656\n",
              "log(data_arc)      0.298793\n",
              "a                  0.195634\n",
              "e                  0.185047\n",
              "log(e)             0.157921\n",
              "ad                 0.112606\n",
              "i                  0.096037\n",
              "log(i)             0.088749\n",
              "per_y              0.046649\n",
              "per                0.046649\n",
              "ma                 0.030946\n",
              "log(ma)            0.023154\n",
              "log(w)             0.006008\n",
              "w                  0.005310\n",
              "om                 0.001478\n",
              "log(om)            0.000169\n",
              "Name: diameter, dtype: float64"
            ]
          },
          "metadata": {
            "tags": []
          },
          "execution_count": 10
        }
      ]
    },
    {
      "cell_type": "markdown",
      "metadata": {
        "id": "xHjTRAw2aLbz"
      },
      "source": [
        "## **Part III**: \n",
        "\n",
        ">### Splitting the dataframe into train and test dataframes and normalizing them for our regressions."
      ]
    },
    {
      "cell_type": "code",
      "metadata": {
        "id": "i72_RUUSW7lx"
      },
      "source": [
        "from sklearn.model_selection import train_test_split\n",
        "\n",
        "predictors = df_asteroid.drop('diameter',axis=1) \n",
        "target = df_asteroid['diameter']\n",
        "\n",
        "X_train,X_test,Y_train,Y_test = train_test_split(predictors,target,test_size=0.20,random_state=0)"
      ],
      "execution_count": 11,
      "outputs": []
    },
    {
      "cell_type": "code",
      "metadata": {
        "colab": {
          "base_uri": "https://localhost:8080/",
          "height": 224
        },
        "id": "YAlIVxEWWIGc",
        "outputId": "7f339cc9-0e23-4190-a232-9784ffdd5d84"
      },
      "source": [
        "X_train.head()"
      ],
      "execution_count": 12,
      "outputs": [
        {
          "output_type": "execute_result",
          "data": {
            "text/html": [
              "<div>\n",
              "<style scoped>\n",
              "    .dataframe tbody tr th:only-of-type {\n",
              "        vertical-align: middle;\n",
              "    }\n",
              "\n",
              "    .dataframe tbody tr th {\n",
              "        vertical-align: top;\n",
              "    }\n",
              "\n",
              "    .dataframe thead th {\n",
              "        text-align: right;\n",
              "    }\n",
              "</style>\n",
              "<table border=\"1\" class=\"dataframe\">\n",
              "  <thead>\n",
              "    <tr style=\"text-align: right;\">\n",
              "      <th></th>\n",
              "      <th>a</th>\n",
              "      <th>e</th>\n",
              "      <th>i</th>\n",
              "      <th>om</th>\n",
              "      <th>w</th>\n",
              "      <th>q</th>\n",
              "      <th>ad</th>\n",
              "      <th>per_y</th>\n",
              "      <th>data_arc</th>\n",
              "      <th>n_obs_used</th>\n",
              "      <th>moid</th>\n",
              "      <th>n</th>\n",
              "      <th>per</th>\n",
              "      <th>ma</th>\n",
              "      <th>log(a)</th>\n",
              "      <th>log(e)</th>\n",
              "      <th>log(i)</th>\n",
              "      <th>log(om)</th>\n",
              "      <th>log(w)</th>\n",
              "      <th>log(q)</th>\n",
              "      <th>log(ad)</th>\n",
              "      <th>log(per_y)</th>\n",
              "      <th>log(data_arc)</th>\n",
              "      <th>log(n_obs_used)</th>\n",
              "      <th>log(moid)</th>\n",
              "      <th>log(n)</th>\n",
              "      <th>log(per)</th>\n",
              "      <th>log(ma)</th>\n",
              "    </tr>\n",
              "  </thead>\n",
              "  <tbody>\n",
              "    <tr>\n",
              "      <th>474961</th>\n",
              "      <td>3.148871</td>\n",
              "      <td>0.130545</td>\n",
              "      <td>14.123745</td>\n",
              "      <td>20.870476</td>\n",
              "      <td>335.017941</td>\n",
              "      <td>2.737801</td>\n",
              "      <td>3.559942</td>\n",
              "      <td>5.587796</td>\n",
              "      <td>5812.0</td>\n",
              "      <td>72</td>\n",
              "      <td>1.74091</td>\n",
              "      <td>0.176389</td>\n",
              "      <td>2040.942568</td>\n",
              "      <td>171.197625</td>\n",
              "      <td>1.147044</td>\n",
              "      <td>-2.036035</td>\n",
              "      <td>2.647857</td>\n",
              "      <td>3.038336</td>\n",
              "      <td>5.814184</td>\n",
              "      <td>1.007155</td>\n",
              "      <td>1.269744</td>\n",
              "      <td>1.720585</td>\n",
              "      <td>8.667680</td>\n",
              "      <td>4.276666</td>\n",
              "      <td>0.554408</td>\n",
              "      <td>-1.735063</td>\n",
              "      <td>7.621167</td>\n",
              "      <td>5.142819</td>\n",
              "    </tr>\n",
              "    <tr>\n",
              "      <th>283914</th>\n",
              "      <td>3.104229</td>\n",
              "      <td>0.169382</td>\n",
              "      <td>19.711359</td>\n",
              "      <td>107.671134</td>\n",
              "      <td>182.187629</td>\n",
              "      <td>2.578429</td>\n",
              "      <td>3.630030</td>\n",
              "      <td>5.469390</td>\n",
              "      <td>6824.0</td>\n",
              "      <td>186</td>\n",
              "      <td>1.56154</td>\n",
              "      <td>0.180208</td>\n",
              "      <td>1997.694859</td>\n",
              "      <td>177.806839</td>\n",
              "      <td>1.132766</td>\n",
              "      <td>-1.775599</td>\n",
              "      <td>2.981195</td>\n",
              "      <td>4.679082</td>\n",
              "      <td>5.205037</td>\n",
              "      <td>0.947180</td>\n",
              "      <td>1.289241</td>\n",
              "      <td>1.699167</td>\n",
              "      <td>8.828201</td>\n",
              "      <td>5.225747</td>\n",
              "      <td>0.445673</td>\n",
              "      <td>-1.713645</td>\n",
              "      <td>7.599749</td>\n",
              "      <td>5.180698</td>\n",
              "    </tr>\n",
              "    <tr>\n",
              "      <th>241049</th>\n",
              "      <td>3.170379</td>\n",
              "      <td>0.104378</td>\n",
              "      <td>1.607302</td>\n",
              "      <td>151.293279</td>\n",
              "      <td>138.910748</td>\n",
              "      <td>2.839460</td>\n",
              "      <td>3.501298</td>\n",
              "      <td>5.645143</td>\n",
              "      <td>6684.0</td>\n",
              "      <td>272</td>\n",
              "      <td>1.82279</td>\n",
              "      <td>0.174597</td>\n",
              "      <td>2061.888649</td>\n",
              "      <td>153.747173</td>\n",
              "      <td>1.153851</td>\n",
              "      <td>-2.259734</td>\n",
              "      <td>0.474557</td>\n",
              "      <td>5.019220</td>\n",
              "      <td>4.933832</td>\n",
              "      <td>1.043614</td>\n",
              "      <td>1.253134</td>\n",
              "      <td>1.730796</td>\n",
              "      <td>8.807472</td>\n",
              "      <td>5.605802</td>\n",
              "      <td>0.600368</td>\n",
              "      <td>-1.745274</td>\n",
              "      <td>7.631378</td>\n",
              "      <td>5.035310</td>\n",
              "    </tr>\n",
              "    <tr>\n",
              "      <th>359366</th>\n",
              "      <td>3.123361</td>\n",
              "      <td>0.232180</td>\n",
              "      <td>13.565848</td>\n",
              "      <td>54.472085</td>\n",
              "      <td>258.745939</td>\n",
              "      <td>2.398180</td>\n",
              "      <td>3.848542</td>\n",
              "      <td>5.520031</td>\n",
              "      <td>7120.0</td>\n",
              "      <td>185</td>\n",
              "      <td>1.42886</td>\n",
              "      <td>0.178554</td>\n",
              "      <td>2016.191342</td>\n",
              "      <td>323.992520</td>\n",
              "      <td>1.138910</td>\n",
              "      <td>-1.460244</td>\n",
              "      <td>2.607555</td>\n",
              "      <td>3.997688</td>\n",
              "      <td>5.555847</td>\n",
              "      <td>0.874710</td>\n",
              "      <td>1.347694</td>\n",
              "      <td>1.708383</td>\n",
              "      <td>8.870663</td>\n",
              "      <td>5.220356</td>\n",
              "      <td>0.356877</td>\n",
              "      <td>-1.722862</td>\n",
              "      <td>7.608966</td>\n",
              "      <td>5.780720</td>\n",
              "    </tr>\n",
              "    <tr>\n",
              "      <th>110551</th>\n",
              "      <td>2.646488</td>\n",
              "      <td>0.191386</td>\n",
              "      <td>13.100536</td>\n",
              "      <td>39.183682</td>\n",
              "      <td>344.363064</td>\n",
              "      <td>2.139987</td>\n",
              "      <td>3.152990</td>\n",
              "      <td>4.305397</td>\n",
              "      <td>6660.0</td>\n",
              "      <td>711</td>\n",
              "      <td>1.14667</td>\n",
              "      <td>0.228928</td>\n",
              "      <td>1572.546205</td>\n",
              "      <td>77.728902</td>\n",
              "      <td>0.973234</td>\n",
              "      <td>-1.653462</td>\n",
              "      <td>2.572653</td>\n",
              "      <td>3.668260</td>\n",
              "      <td>5.841697</td>\n",
              "      <td>0.760800</td>\n",
              "      <td>1.148351</td>\n",
              "      <td>1.459869</td>\n",
              "      <td>8.803875</td>\n",
              "      <td>6.566672</td>\n",
              "      <td>0.136862</td>\n",
              "      <td>-1.474347</td>\n",
              "      <td>7.360451</td>\n",
              "      <td>4.353227</td>\n",
              "    </tr>\n",
              "  </tbody>\n",
              "</table>\n",
              "</div>"
            ],
            "text/plain": [
              "               a         e          i          om           w         q        ad     per_y  data_arc  n_obs_used     moid         n          per          ma    log(a)    log(e)    log(i)   log(om)    log(w)    log(q)   log(ad)  log(per_y)  log(data_arc)  log(n_obs_used)  log(moid)    log(n)  log(per)   log(ma)\n",
              "474961  3.148871  0.130545  14.123745   20.870476  335.017941  2.737801  3.559942  5.587796    5812.0          72  1.74091  0.176389  2040.942568  171.197625  1.147044 -2.036035  2.647857  3.038336  5.814184  1.007155  1.269744    1.720585       8.667680         4.276666   0.554408 -1.735063  7.621167  5.142819\n",
              "283914  3.104229  0.169382  19.711359  107.671134  182.187629  2.578429  3.630030  5.469390    6824.0         186  1.56154  0.180208  1997.694859  177.806839  1.132766 -1.775599  2.981195  4.679082  5.205037  0.947180  1.289241    1.699167       8.828201         5.225747   0.445673 -1.713645  7.599749  5.180698\n",
              "241049  3.170379  0.104378   1.607302  151.293279  138.910748  2.839460  3.501298  5.645143    6684.0         272  1.82279  0.174597  2061.888649  153.747173  1.153851 -2.259734  0.474557  5.019220  4.933832  1.043614  1.253134    1.730796       8.807472         5.605802   0.600368 -1.745274  7.631378  5.035310\n",
              "359366  3.123361  0.232180  13.565848   54.472085  258.745939  2.398180  3.848542  5.520031    7120.0         185  1.42886  0.178554  2016.191342  323.992520  1.138910 -1.460244  2.607555  3.997688  5.555847  0.874710  1.347694    1.708383       8.870663         5.220356   0.356877 -1.722862  7.608966  5.780720\n",
              "110551  2.646488  0.191386  13.100536   39.183682  344.363064  2.139987  3.152990  4.305397    6660.0         711  1.14667  0.228928  1572.546205   77.728902  0.973234 -1.653462  2.572653  3.668260  5.841697  0.760800  1.148351    1.459869       8.803875         6.566672   0.136862 -1.474347  7.360451  4.353227"
            ]
          },
          "metadata": {
            "tags": []
          },
          "execution_count": 12
        }
      ]
    },
    {
      "cell_type": "code",
      "metadata": {
        "id": "FDjQ3sMvWIDS"
      },
      "source": [
        "from sklearn import preprocessing\n",
        "\n",
        "#Input standard normalization:\n",
        "std_scaler = preprocessing.StandardScaler().fit(X_train)\n",
        "\n",
        "def scaler(X):\n",
        "    x_norm_arr= std_scaler.fit_transform(X)\n",
        "    return pd.DataFrame(x_norm_arr, columns=X.columns, index = X.index)\n",
        "\n",
        "X_train_norm = scaler(X_train)\n",
        "X_test_norm = scaler(X_test)\n",
        "\n",
        "def inverse_scaler(X):\n",
        "    x_norm_arr= std_scaler.inverse_transform(X)\n",
        "    return pd.DataFrame(x_norm_arr, columns=X.columns, index = X.index)"
      ],
      "execution_count": 13,
      "outputs": []
    },
    {
      "cell_type": "markdown",
      "metadata": {
        "id": "45MBtJ8tdG57"
      },
      "source": [
        "##**Part IV:**  \n",
        "\n",
        ">### Trying different regressions and ranking them according to their $𝑅^2$.\n",
        "\n",
        "#### Algorithms used: \n",
        "- Linear Regression\n",
        "- Elastic Net\n",
        "- k-Nearest Neighbours\n",
        "- Decision Tree\n",
        "- Random Forest\n",
        "- SVM\n",
        "- Neural Network\n",
        "- XGBoost."
      ]
    },
    {
      "cell_type": "code",
      "metadata": {
        "id": "ci29-ErgWIAO"
      },
      "source": [
        "from sklearn.metrics import r2_score\n",
        "import seaborn as sns\n",
        "\n",
        "def plot(prediction):\n",
        "    fig, (ax1, ax2) = plt.subplots(1, 2,figsize=(20,7)) \n",
        "    sns.distplot(Y_test.values,label='test values', ax=ax1)\n",
        "    sns.distplot(prediction ,label='prediction', ax=ax1)\n",
        "    ax1.set_xlabel('Distribution plot')\n",
        "    ax2.scatter(Y_test,prediction, c='orange',label='predictions')\n",
        "    ax2.plot(Y_test,Y_test,c='blue',label='y=x')\n",
        "    ax2.set_xlabel('test value')\n",
        "    ax2.set_ylabel('estimated $\\log(radius)$')\n",
        "    ax1.legend()\n",
        "    ax2.legend()\n",
        "    ax2.axis('scaled') #same x y scale\n",
        "def score(prediction):\n",
        "    score = r2_score(prediction,Y_test)\n",
        "    return score\n",
        "def announce(score):\n",
        "    print('The R^2 score achieved using this regression is:', round(score,3))\n",
        "algorithms = []\n",
        "scores = []"
      ],
      "execution_count": 14,
      "outputs": []
    },
    {
      "cell_type": "markdown",
      "metadata": {
        "id": "L6KJMn1lexBu"
      },
      "source": [
        "### Linear Regression"
      ]
    },
    {
      "cell_type": "code",
      "metadata": {
        "colab": {
          "base_uri": "https://localhost:8080/"
        },
        "id": "Luhd3Zb1WH9Z",
        "outputId": "f75f35d4-279a-491a-91e5-f8bef1ae6dd0"
      },
      "source": [
        "from sklearn.linear_model import LinearRegression\n",
        "\n",
        "lr = LinearRegression()\n",
        "lr.fit(X_train,Y_train)\n",
        "Y_pred_lr = lr.predict(X_test)\n",
        "score_lr = score(Y_pred_lr)\n",
        "announce(score_lr)\n",
        "algorithms.append('LR')\n",
        "scores.append(score_lr)"
      ],
      "execution_count": 15,
      "outputs": [
        {
          "output_type": "stream",
          "text": [
            "The R^2 score achieved using this regression is: 0.67\n"
          ],
          "name": "stdout"
        }
      ]
    },
    {
      "cell_type": "code",
      "metadata": {
        "colab": {
          "base_uri": "https://localhost:8080/",
          "height": 446
        },
        "id": "4ToB16poWH24",
        "outputId": "04a676ee-4c90-4b7e-c369-cb1b5fa9e572"
      },
      "source": [
        "plot(Y_pred_lr)"
      ],
      "execution_count": 16,
      "outputs": [
        {
          "output_type": "display_data",
          "data": {
            "image/png": "[encoded data removed]",
            "text/plain": [
              "<Figure size 1440x504 with 2 Axes>"
            ]
          },
          "metadata": {
            "tags": [],
            "needs_background": "light"
          }
        }
      ]
    },
    {
      "cell_type": "markdown",
      "metadata": {
        "id": "cQDrNIKYgFgP"
      },
      "source": [
        "### Elastic Net"
      ]
    },
    {
      "cell_type": "code",
      "metadata": {
        "colab": {
          "base_uri": "https://localhost:8080/"
        },
        "id": "yT-Qbzj_gFgX",
        "outputId": "240224af-ca5a-400a-860b-a2713b6f5ca9"
      },
      "source": [
        "from sklearn.linear_model import ElasticNetCV\n",
        "\n",
        "enet = ElasticNetCV(cv=9,max_iter=10000)\n",
        "enet.fit(X_train_norm,np.ravel(Y_train))\n",
        "Y_pred_enet = enet.predict(X_test_norm)\n",
        "score_enet = score(Y_pred_enet)\n",
        "announce(score_enet)\n",
        "algorithms.append('eNet')\n",
        "scores.append(score_enet)"
      ],
      "execution_count": 17,
      "outputs": [
        {
          "output_type": "stream",
          "text": [
            "The R^2 score achieved using this regression is: 0.628\n"
          ],
          "name": "stdout"
        }
      ]
    },
    {
      "cell_type": "code",
      "metadata": {
        "colab": {
          "base_uri": "https://localhost:8080/",
          "height": 442
        },
        "id": "SJ2NRLSygFga",
        "outputId": "59ba967d-f251-4008-8fde-0b7632413564"
      },
      "source": [
        "plot(Y_pred_enet)"
      ],
      "execution_count": 18,
      "outputs": [
        {
          "output_type": "display_data",
          "data": {
            "image/png": "[encoded data removed]",
            "text/plain": [
              "<Figure size 1440x504 with 2 Axes>"
            ]
          },
          "metadata": {
            "tags": [],
            "needs_background": "light"
          }
        }
      ]
    },
    {
      "cell_type": "code",
      "metadata": {
        "id": "RsH-sLx3gWW0"
      },
      "source": [
        ""
      ],
      "execution_count": 18,
      "outputs": []
    }
  ]
}